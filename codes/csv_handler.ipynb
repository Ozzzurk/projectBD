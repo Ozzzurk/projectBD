{
 "cells": [
  {
   "cell_type": "code",
   "execution_count": 3,
   "id": "14b7dc64",
   "metadata": {},
   "outputs": [],
   "source": [
    "from pyspark.sql.functions import col, to_date, mean, count\n",
    "import pandas as pd\n",
    "import matplotlib.pyplot as plt\n",
    "from pyspark.sql.types import StructType, StructField, DoubleType, IntegerType, DateType, StringType \n",
    "from pyspark.sql.functions import *\n",
    "from pyspark.sql import functions as F\n",
    "\n",
    "schemaPlayers = StructType([\n",
    "    StructField(\"player_id\", IntegerType(), True),\n",
    "    StructField(\"name\", StringType(), True),\n",
    "    StructField(\"country_of_citizenship\", StringType(), True),\n",
    "    StructField(\"date_of_birth\", DateType(), True),\n",
    "    StructField(\"position\", StringType(), True),\n",
    "    StructField(\"sub_position\", StringType(), True)\n",
    "])\n",
    "\n",
    "schemaPlayerValuations = StructType([\n",
    "    StructField(\"player_id\", IntegerType(), True),\n",
    "    StructField(\"date\", DateType(), True),\n",
    "    StructField(\"market_value_in_eur\", IntegerType(), True)\n",
    "    #StructField(\"player_club_domestic_competition_id\", StringType(), True)\n",
    "])\n",
    "\n",
    "schemaAppearances = StructType([\n",
    "    StructField(\"player_id\", IntegerType(), True),\n",
    "    StructField(\"player_club_id\", IntegerType(), True),\n",
    "    StructField(\"date\", DateType(), True),\n",
    "    StructField(\"player_name\", StringType(), True),\n",
    "    StructField(\"competition_id\", StringType(), True),\n",
    "    StructField(\"yellow_cards\", IntegerType(), True),\n",
    "    StructField(\"red_cards\", IntegerType(), True),\n",
    "    StructField(\"goals\", IntegerType(), True),\n",
    "    StructField(\"assists\", IntegerType(), True),\n",
    "    StructField(\"mins\", IntegerType(), True),\n",
    "])\n",
    "\n",
    "schemaClubs = StructType([\n",
    "    StructField(\"club_id\", IntegerType(), True),\n",
    "    StructField(\"name\", StringType(), True),\n",
    "    StructField(\"domestic_competition_id\", StringType(), True)\n",
    "])\n",
    "\n",
    "schemaCompetitions = StructType([\n",
    "    StructField(\"competition_id\", StringType(), True),\n",
    "    StructField(\"name\", StringType(), True),\n",
    "    StructField(\"sub_type\", StringType(), True),\n",
    "    StructField(\"type\", StringType(), True),\n",
    "    StructField(\"country_id\", IntegerType(), True),\n",
    "    StructField(\"country_name\", StringType(), True),\n",
    "    StructField(\"dlc\", StringType(), True),\n",
    "])"
   ]
  },
  {
   "cell_type": "code",
   "execution_count": 4,
   "id": "8b7af6c8",
   "metadata": {},
   "outputs": [
    {
     "name": "stdout",
     "output_type": "stream",
     "text": [
      "root\n",
      " |-- player_id: integer (nullable = true)\n",
      " |-- player_club_id: integer (nullable = true)\n",
      " |-- date: date (nullable = true)\n",
      " |-- player_name: string (nullable = true)\n",
      " |-- competition_id: string (nullable = true)\n",
      " |-- yellow_cards: integer (nullable = true)\n",
      " |-- red_cards: integer (nullable = true)\n",
      " |-- goals: integer (nullable = true)\n",
      " |-- assists: integer (nullable = true)\n",
      " |-- mins: integer (nullable = true)\n",
      "\n",
      "root\n",
      " |-- player_id: integer (nullable = true)\n",
      " |-- date: date (nullable = true)\n",
      " |-- market_value_in_eur: integer (nullable = true)\n",
      "\n",
      "root\n",
      " |-- player_id: integer (nullable = true)\n",
      " |-- name: string (nullable = true)\n",
      " |-- country_of_citizenship: string (nullable = true)\n",
      " |-- date_of_birth: date (nullable = true)\n",
      " |-- position: string (nullable = true)\n",
      " |-- sub_position: string (nullable = true)\n",
      "\n"
     ]
    }
   ],
   "source": [
    "appearancesDF = spark.read.csv(\"/user/student/BD/out/appearances\", header=True, \n",
    "                                schema=schemaAppearances)\n",
    "appearancesDF.printSchema()\n",
    "\n",
    "playerValuationsDF = spark.read.csv(\"/user/student/BD/out/player_valuations\", header=True, \n",
    "                                schema=schemaPlayerValuations)\n",
    "playerValuationsDF.printSchema()\n",
    "\n",
    "playersDF = spark.read.csv(\"/user/student/BD/out/players\", header=True, \n",
    "                                schema=schemaPlayers)\n",
    "playersDF.printSchema()"
   ]
  },
  {
   "cell_type": "code",
   "execution_count": 5,
   "id": "206a113d",
   "metadata": {},
   "outputs": [],
   "source": [
    "dates = [(\"2017-07-01\", \"2018-06-20\"), (\"2018-07-01\", \"2019-06-20\"),\n",
    "         (\"2019-07-01\", \"2020-06-20\"), (\"2020-07-01\", \"2021-06-20\"),\n",
    "         (\"2021-07-01\", \"2022-06-20\"), (\"2022-07-01\", \"2023-06-20\"), \n",
    "         (\"2023-07-01\", \"2024-06-20\")]\n",
    "\n",
    "passport = [(\"IT1\", \"Italy\"), (\"L1\", \"Germany\"), (\"RU1\", \"Russia\"), (\"GB1\", \"England\"), (\"ES1\", \"Spain\"),\n",
    "           (\"FR1\", \"France\"), (\"TR1\", \"Turkey\")]\n",
    "\n",
    "age_groups = [(16, 20), (21, 25), (26, 30)]\n",
    "\n",
    "positions = [\"Attack\", \"Midfield\", \"Defender\"]"
   ]
  },
  {
   "cell_type": "code",
   "execution_count": 8,
   "id": "1644a87d",
   "metadata": {},
   "outputs": [
    {
     "name": "stderr",
     "output_type": "stream",
     "text": [
      "2024-06-26 18:26:34,103 WARN util.package: Truncated the string representation of a plan since it was too large. This behavior can be adjusted by setting 'spark.sql.debug.maxToStringFields'.\n",
      "                                                                                \r"
     ]
    },
    {
     "name": "stdout",
     "output_type": "stream",
     "text": [
      "IT1_16_20_Attack successfully written.\n",
      "\n"
     ]
    },
    {
     "name": "stderr",
     "output_type": "stream",
     "text": [
      "                                                                                \r"
     ]
    },
    {
     "name": "stdout",
     "output_type": "stream",
     "text": [
      "IT1_16_20_Midfield successfully written.\n",
      "\n"
     ]
    },
    {
     "name": "stderr",
     "output_type": "stream",
     "text": [
      "                                                                                \r"
     ]
    },
    {
     "name": "stdout",
     "output_type": "stream",
     "text": [
      "IT1_16_20_Defender successfully written.\n",
      "\n"
     ]
    },
    {
     "name": "stderr",
     "output_type": "stream",
     "text": [
      "                                                                                \r"
     ]
    },
    {
     "name": "stdout",
     "output_type": "stream",
     "text": [
      "IT1_21_25_Attack successfully written.\n",
      "\n"
     ]
    },
    {
     "name": "stderr",
     "output_type": "stream",
     "text": [
      "                                                                                \r"
     ]
    },
    {
     "name": "stdout",
     "output_type": "stream",
     "text": [
      "IT1_21_25_Midfield successfully written.\n",
      "\n"
     ]
    },
    {
     "name": "stderr",
     "output_type": "stream",
     "text": [
      "                                                                                \r"
     ]
    },
    {
     "name": "stdout",
     "output_type": "stream",
     "text": [
      "IT1_21_25_Defender successfully written.\n",
      "\n"
     ]
    },
    {
     "name": "stderr",
     "output_type": "stream",
     "text": [
      "                                                                                \r"
     ]
    },
    {
     "name": "stdout",
     "output_type": "stream",
     "text": [
      "IT1_26_30_Attack successfully written.\n",
      "\n"
     ]
    },
    {
     "ename": "KeyboardInterrupt",
     "evalue": "",
     "output_type": "error",
     "traceback": [
      "\u001b[0;31m---------------------------------------------------------------------------\u001b[0m",
      "\u001b[0;31mKeyboardInterrupt\u001b[0m                         Traceback (most recent call last)",
      "\u001b[0;32m/tmp/ipykernel_4987/4173669634.py\u001b[0m in \u001b[0;36m<module>\u001b[0;34m\u001b[0m\n\u001b[1;32m    111\u001b[0m                     \u001b[0mdf\u001b[0m\u001b[0;34m.\u001b[0m\u001b[0mwrite\u001b[0m\u001b[0;34m.\u001b[0m\u001b[0mmode\u001b[0m\u001b[0;34m(\u001b[0m\u001b[0;34m\"append\"\u001b[0m\u001b[0;34m)\u001b[0m\u001b[0;34m.\u001b[0m\u001b[0mcsv\u001b[0m\u001b[0;34m(\u001b[0m\u001b[0moutput_path\u001b[0m\u001b[0;34m,\u001b[0m \u001b[0mheader\u001b[0m\u001b[0;34m=\u001b[0m\u001b[0;32mTrue\u001b[0m\u001b[0;34m)\u001b[0m\u001b[0;34m\u001b[0m\u001b[0;34m\u001b[0m\u001b[0m\n\u001b[1;32m    112\u001b[0m                 \u001b[0;32melse\u001b[0m\u001b[0;34m:\u001b[0m\u001b[0;34m\u001b[0m\u001b[0;34m\u001b[0m\u001b[0m\n\u001b[0;32m--> 113\u001b[0;31m                     \u001b[0mdf\u001b[0m\u001b[0;34m.\u001b[0m\u001b[0mwrite\u001b[0m\u001b[0;34m.\u001b[0m\u001b[0mmode\u001b[0m\u001b[0;34m(\u001b[0m\u001b[0;34m\"overwrite\"\u001b[0m\u001b[0;34m)\u001b[0m\u001b[0;34m.\u001b[0m\u001b[0mcsv\u001b[0m\u001b[0;34m(\u001b[0m\u001b[0moutput_path\u001b[0m\u001b[0;34m,\u001b[0m \u001b[0mheader\u001b[0m\u001b[0;34m=\u001b[0m\u001b[0;32mTrue\u001b[0m\u001b[0;34m)\u001b[0m\u001b[0;34m\u001b[0m\u001b[0;34m\u001b[0m\u001b[0m\n\u001b[0m\u001b[1;32m    114\u001b[0m                     \u001b[0mgroup_list\u001b[0m\u001b[0;34m.\u001b[0m\u001b[0mappend\u001b[0m\u001b[0;34m(\u001b[0m\u001b[0mgroup_name\u001b[0m\u001b[0;34m)\u001b[0m\u001b[0;34m\u001b[0m\u001b[0;34m\u001b[0m\u001b[0m\n\u001b[1;32m    115\u001b[0m \u001b[0;34m\u001b[0m\u001b[0m\n",
      "\u001b[0;32m/usr/local/spark3/spark-3.1.2-bin-hadoop3.2/python/pyspark/sql/readwriter.py\u001b[0m in \u001b[0;36mcsv\u001b[0;34m(self, path, mode, compression, sep, quote, escape, header, nullValue, escapeQuotes, quoteAll, dateFormat, timestampFormat, ignoreLeadingWhiteSpace, ignoreTrailingWhiteSpace, charToEscapeQuoteEscaping, encoding, emptyValue, lineSep)\u001b[0m\n\u001b[1;32m   1370\u001b[0m                        \u001b[0mcharToEscapeQuoteEscaping\u001b[0m\u001b[0;34m=\u001b[0m\u001b[0mcharToEscapeQuoteEscaping\u001b[0m\u001b[0;34m,\u001b[0m\u001b[0;34m\u001b[0m\u001b[0;34m\u001b[0m\u001b[0m\n\u001b[1;32m   1371\u001b[0m                        encoding=encoding, emptyValue=emptyValue, lineSep=lineSep)\n\u001b[0;32m-> 1372\u001b[0;31m         \u001b[0mself\u001b[0m\u001b[0;34m.\u001b[0m\u001b[0m_jwrite\u001b[0m\u001b[0;34m.\u001b[0m\u001b[0mcsv\u001b[0m\u001b[0;34m(\u001b[0m\u001b[0mpath\u001b[0m\u001b[0;34m)\u001b[0m\u001b[0;34m\u001b[0m\u001b[0;34m\u001b[0m\u001b[0m\n\u001b[0m\u001b[1;32m   1373\u001b[0m \u001b[0;34m\u001b[0m\u001b[0m\n\u001b[1;32m   1374\u001b[0m     \u001b[0;32mdef\u001b[0m \u001b[0morc\u001b[0m\u001b[0;34m(\u001b[0m\u001b[0mself\u001b[0m\u001b[0;34m,\u001b[0m \u001b[0mpath\u001b[0m\u001b[0;34m,\u001b[0m \u001b[0mmode\u001b[0m\u001b[0;34m=\u001b[0m\u001b[0;32mNone\u001b[0m\u001b[0;34m,\u001b[0m \u001b[0mpartitionBy\u001b[0m\u001b[0;34m=\u001b[0m\u001b[0;32mNone\u001b[0m\u001b[0;34m,\u001b[0m \u001b[0mcompression\u001b[0m\u001b[0;34m=\u001b[0m\u001b[0;32mNone\u001b[0m\u001b[0;34m)\u001b[0m\u001b[0;34m:\u001b[0m\u001b[0;34m\u001b[0m\u001b[0;34m\u001b[0m\u001b[0m\n",
      "\u001b[0;32m/usr/local/spark3/spark-3.1.2-bin-hadoop3.2/python/lib/py4j-0.10.9-src.zip/py4j/java_gateway.py\u001b[0m in \u001b[0;36m__call__\u001b[0;34m(self, *args)\u001b[0m\n\u001b[1;32m   1301\u001b[0m             \u001b[0mproto\u001b[0m\u001b[0;34m.\u001b[0m\u001b[0mEND_COMMAND_PART\u001b[0m\u001b[0;34m\u001b[0m\u001b[0;34m\u001b[0m\u001b[0m\n\u001b[1;32m   1302\u001b[0m \u001b[0;34m\u001b[0m\u001b[0m\n\u001b[0;32m-> 1303\u001b[0;31m         \u001b[0manswer\u001b[0m \u001b[0;34m=\u001b[0m \u001b[0mself\u001b[0m\u001b[0;34m.\u001b[0m\u001b[0mgateway_client\u001b[0m\u001b[0;34m.\u001b[0m\u001b[0msend_command\u001b[0m\u001b[0;34m(\u001b[0m\u001b[0mcommand\u001b[0m\u001b[0;34m)\u001b[0m\u001b[0;34m\u001b[0m\u001b[0;34m\u001b[0m\u001b[0m\n\u001b[0m\u001b[1;32m   1304\u001b[0m         return_value = get_return_value(\n\u001b[1;32m   1305\u001b[0m             answer, self.gateway_client, self.target_id, self.name)\n",
      "\u001b[0;32m/usr/local/spark3/spark-3.1.2-bin-hadoop3.2/python/lib/py4j-0.10.9-src.zip/py4j/java_gateway.py\u001b[0m in \u001b[0;36msend_command\u001b[0;34m(self, command, retry, binary)\u001b[0m\n\u001b[1;32m   1031\u001b[0m         \u001b[0mconnection\u001b[0m \u001b[0;34m=\u001b[0m \u001b[0mself\u001b[0m\u001b[0;34m.\u001b[0m\u001b[0m_get_connection\u001b[0m\u001b[0;34m(\u001b[0m\u001b[0;34m)\u001b[0m\u001b[0;34m\u001b[0m\u001b[0;34m\u001b[0m\u001b[0m\n\u001b[1;32m   1032\u001b[0m         \u001b[0;32mtry\u001b[0m\u001b[0;34m:\u001b[0m\u001b[0;34m\u001b[0m\u001b[0;34m\u001b[0m\u001b[0m\n\u001b[0;32m-> 1033\u001b[0;31m             \u001b[0mresponse\u001b[0m \u001b[0;34m=\u001b[0m \u001b[0mconnection\u001b[0m\u001b[0;34m.\u001b[0m\u001b[0msend_command\u001b[0m\u001b[0;34m(\u001b[0m\u001b[0mcommand\u001b[0m\u001b[0;34m)\u001b[0m\u001b[0;34m\u001b[0m\u001b[0;34m\u001b[0m\u001b[0m\n\u001b[0m\u001b[1;32m   1034\u001b[0m             \u001b[0;32mif\u001b[0m \u001b[0mbinary\u001b[0m\u001b[0;34m:\u001b[0m\u001b[0;34m\u001b[0m\u001b[0;34m\u001b[0m\u001b[0m\n\u001b[1;32m   1035\u001b[0m                 \u001b[0;32mreturn\u001b[0m \u001b[0mresponse\u001b[0m\u001b[0;34m,\u001b[0m \u001b[0mself\u001b[0m\u001b[0;34m.\u001b[0m\u001b[0m_create_connection_guard\u001b[0m\u001b[0;34m(\u001b[0m\u001b[0mconnection\u001b[0m\u001b[0;34m)\u001b[0m\u001b[0;34m\u001b[0m\u001b[0;34m\u001b[0m\u001b[0m\n",
      "\u001b[0;32m/usr/local/spark3/spark-3.1.2-bin-hadoop3.2/python/lib/py4j-0.10.9-src.zip/py4j/java_gateway.py\u001b[0m in \u001b[0;36msend_command\u001b[0;34m(self, command)\u001b[0m\n\u001b[1;32m   1198\u001b[0m \u001b[0;34m\u001b[0m\u001b[0m\n\u001b[1;32m   1199\u001b[0m         \u001b[0;32mtry\u001b[0m\u001b[0;34m:\u001b[0m\u001b[0;34m\u001b[0m\u001b[0;34m\u001b[0m\u001b[0m\n\u001b[0;32m-> 1200\u001b[0;31m             \u001b[0manswer\u001b[0m \u001b[0;34m=\u001b[0m \u001b[0msmart_decode\u001b[0m\u001b[0;34m(\u001b[0m\u001b[0mself\u001b[0m\u001b[0;34m.\u001b[0m\u001b[0mstream\u001b[0m\u001b[0;34m.\u001b[0m\u001b[0mreadline\u001b[0m\u001b[0;34m(\u001b[0m\u001b[0;34m)\u001b[0m\u001b[0;34m[\u001b[0m\u001b[0;34m:\u001b[0m\u001b[0;34m-\u001b[0m\u001b[0;36m1\u001b[0m\u001b[0;34m]\u001b[0m\u001b[0;34m)\u001b[0m\u001b[0;34m\u001b[0m\u001b[0;34m\u001b[0m\u001b[0m\n\u001b[0m\u001b[1;32m   1201\u001b[0m             \u001b[0mlogger\u001b[0m\u001b[0;34m.\u001b[0m\u001b[0mdebug\u001b[0m\u001b[0;34m(\u001b[0m\u001b[0;34m\"Answer received: {0}\"\u001b[0m\u001b[0;34m.\u001b[0m\u001b[0mformat\u001b[0m\u001b[0;34m(\u001b[0m\u001b[0manswer\u001b[0m\u001b[0;34m)\u001b[0m\u001b[0;34m)\u001b[0m\u001b[0;34m\u001b[0m\u001b[0;34m\u001b[0m\u001b[0m\n\u001b[1;32m   1202\u001b[0m             \u001b[0;32mif\u001b[0m \u001b[0manswer\u001b[0m\u001b[0;34m.\u001b[0m\u001b[0mstartswith\u001b[0m\u001b[0;34m(\u001b[0m\u001b[0mproto\u001b[0m\u001b[0;34m.\u001b[0m\u001b[0mRETURN_MESSAGE\u001b[0m\u001b[0;34m)\u001b[0m\u001b[0;34m:\u001b[0m\u001b[0;34m\u001b[0m\u001b[0;34m\u001b[0m\u001b[0m\n",
      "\u001b[0;32m/usr/local/lib/python3.8/socket.py\u001b[0m in \u001b[0;36mreadinto\u001b[0;34m(self, b)\u001b[0m\n\u001b[1;32m    667\u001b[0m         \u001b[0;32mwhile\u001b[0m \u001b[0;32mTrue\u001b[0m\u001b[0;34m:\u001b[0m\u001b[0;34m\u001b[0m\u001b[0;34m\u001b[0m\u001b[0m\n\u001b[1;32m    668\u001b[0m             \u001b[0;32mtry\u001b[0m\u001b[0;34m:\u001b[0m\u001b[0;34m\u001b[0m\u001b[0;34m\u001b[0m\u001b[0m\n\u001b[0;32m--> 669\u001b[0;31m                 \u001b[0;32mreturn\u001b[0m \u001b[0mself\u001b[0m\u001b[0;34m.\u001b[0m\u001b[0m_sock\u001b[0m\u001b[0;34m.\u001b[0m\u001b[0mrecv_into\u001b[0m\u001b[0;34m(\u001b[0m\u001b[0mb\u001b[0m\u001b[0;34m)\u001b[0m\u001b[0;34m\u001b[0m\u001b[0;34m\u001b[0m\u001b[0m\n\u001b[0m\u001b[1;32m    670\u001b[0m             \u001b[0;32mexcept\u001b[0m \u001b[0mtimeout\u001b[0m\u001b[0;34m:\u001b[0m\u001b[0;34m\u001b[0m\u001b[0;34m\u001b[0m\u001b[0m\n\u001b[1;32m    671\u001b[0m                 \u001b[0mself\u001b[0m\u001b[0;34m.\u001b[0m\u001b[0m_timeout_occurred\u001b[0m \u001b[0;34m=\u001b[0m \u001b[0;32mTrue\u001b[0m\u001b[0;34m\u001b[0m\u001b[0;34m\u001b[0m\u001b[0m\n",
      "\u001b[0;31mKeyboardInterrupt\u001b[0m: "
     ]
    }
   ],
   "source": [
    "group_list = []\n",
    "\n",
    "for start_date, end_date in dates:\n",
    "    \n",
    "    # Making DF with CL and EL leagues.\n",
    "    # CL\n",
    "    filtered_cl_games = appearancesDF.filter(\n",
    "        (col(\"competition_id\") == \"CL\") &\n",
    "        (col(\"date\") >= start_date) &\n",
    "        (col(\"date\") <= end_date)\n",
    "    )\n",
    "\n",
    "    allCLFeaturesDF = filtered_cl_games \\\n",
    "                        .groupBy(\"player_id\") \\\n",
    "                        .agg(sum(\"goals\").alias(\"cl_goals\"), sum(\"assists\").alias(\"cl_assists\"), \n",
    "                            sum(\"yellow_cards\").alias(\"cl_yc\"),\n",
    "                            sum(\"red_cards\").alias(\"cl_rc\"), round(mean(\"mins\"), 2).alias(\"cl_mins\"))\n",
    "    \n",
    "    # EL\n",
    "    filtered_el_games = appearancesDF.filter(\n",
    "        (col(\"competition_id\") == \"EL\") &\n",
    "        (col(\"date\") >= start_date) &\n",
    "        (col(\"date\") <= end_date)\n",
    "    )\n",
    "    \n",
    "    allELFeaturesDF = filtered_el_games \\\n",
    "                        .groupBy(\"player_id\") \\\n",
    "                        .agg(sum(\"goals\").alias(\"el_goals\"), sum(\"assists\").alias(\"el_assists\"), \n",
    "                            sum(\"yellow_cards\").alias(\"el_yc\"),\n",
    "                            sum(\"red_cards\").alias(\"el_rc\"), round(mean(\"mins\"), 2).alias(\"el_mins\"))\n",
    "\n",
    "    \n",
    "    # Valuation per season\n",
    "    seasonPlayerValuations = playerValuationsDF \\\n",
    "        .where(f\"date >= '{start_date}' and date <= '{end_date}'\")\n",
    "    \n",
    "    startPlayerDates = seasonPlayerValuations.groupBy(\"player_id\") \\\n",
    "        .agg(min(\"date\").alias(\"date\"))\n",
    "    \n",
    "    startPlayersValuations = startPlayerDates \\\n",
    "        .join(seasonPlayerValuations, [\"player_id\", \"date\"])\n",
    "    \n",
    "    startPlayerValuations = startPlayersValuations.select(\"player_id\", \n",
    "                            startPlayersValuations[\"date\"].alias(\"start_date\"),\n",
    "                            startPlayersValuations[\"market_value_in_eur\"].alias(\"start_val\"))\n",
    "    \n",
    "    lastPlayerDates = seasonPlayerValuations.groupBy(\"player_id\") \\\n",
    "        .agg(max(\"date\").alias(\"date\"))\n",
    "    \n",
    "    lastPlayersValuations = lastPlayerDates \\\n",
    "        .join(seasonPlayerValuations, [\"player_id\", \"date\"])\n",
    "    \n",
    "    lastPlayerValuations = lastPlayersValuations.select(\"player_id\", \n",
    "                           lastPlayersValuations[\"date\"].alias(\"last_date\"),\n",
    "                           lastPlayersValuations[\"market_value_in_eur\"].alias(\"last_val\"))\n",
    "    \n",
    "    # Price difference\n",
    "    valsDF = startPlayerValuations.join(lastPlayerValuations, \"player_id\")\n",
    "    diffVal = valsDF.last_val - valsDF.start_val\n",
    "    valsDF = valsDF.withColumn(\"change\", diffVal)\n",
    "    \n",
    "    \n",
    "    for passport_id, country in passport: \n",
    "        \n",
    "        filtered_games = appearancesDF.filter(\n",
    "        (col(\"competition_id\") == passport_id) &\n",
    "        (col(\"date\") >= start_date) &\n",
    "        (col(\"date\") <= end_date)\n",
    "        )\n",
    "        \n",
    "        allFeaturesDF = filtered_games \\\n",
    "                        .groupBy(\"player_id\") \\\n",
    "                        .agg(sum(\"goals\").alias(\"total_goals\"), sum(\"assists\").alias(\"total_assists\"), \n",
    "                            sum(\"yellow_cards\").alias(\"yellow_cards\"),\n",
    "                            sum(\"red_cards\").alias(\"red_cards\"), round(mean(\"mins\"), 2).alias(\"minutes_played\"), \n",
    "                            sum(\"mins\").alias(\"sum_minutes_played\"))\n",
    "        \n",
    "        resultDF = valsDF.join(allFeaturesDF, \"player_id\")\n",
    "        \n",
    "        age_days = datediff(lit(end_date), col(\"date_of_birth\"))\n",
    "\n",
    "        age = round(age_days / 365, 2)\n",
    "\n",
    "        slicedPlayersDF = playersDF.select(\"player_id\", \"name\",\n",
    "                                  playersDF[\"country_of_citizenship\"].alias(\"citizenship\"),\n",
    "                                  playersDF[\"position\"].alias(\"pos\"), age.alias(\"age\")).dropna(subset=[\"age\"])\n",
    "        \n",
    "        \n",
    "        season = resultDF.join(slicedPlayersDF, \"player_id\", \"inner\")\n",
    "        \n",
    "        season_df = season.withColumn(\"minutes_played\", round(col(\"minutes_played\"), 2)) \\\n",
    "            .withColumn(\n",
    "                \"is_native\",\n",
    "                when(col(\"citizenship\") == lit(country), 1).otherwise(0)\n",
    "            )\n",
    "        \n",
    "        season_df = season_df.drop(\"citizenship\")\n",
    "        fullDF = season_df.select(\n",
    "        \"player_id\", \"name\", \"pos\", \"age\", \"is_native\", \"start_date\", \"start_val\", \"last_date\", \"last_val\", \n",
    "        \"total_goals\", \"total_assists\", \"yellow_cards\", \"red_cards\", \"minutes_played\", \"sum_minutes_played\", \n",
    "        \"change\"\n",
    "        ).join(allCLFeaturesDF, \"player_id\", \"left\").join(allELFeaturesDF, \"player_id\", \"left\").fillna(0)\n",
    "\n",
    "        # Цикл по возрастным диапазонам и позициям\n",
    "        for age_min, age_max in age_groups:\n",
    "            for position in positions:\n",
    "                group_name = f\"{passport_id}_{age_min}_{age_max}_{position}\"\n",
    "                df = fullDF.filter((col('age') >= age_min) & (col('age') <= age_max) & (col('pos') == position))\n",
    "                output_path = f\"/user/student/BD/csv_handler/{group_name}\"\n",
    "                if group_name in group_list:\n",
    "                    df.write.mode(\"append\").csv(output_path, header=True)\n",
    "                else:\n",
    "                    df.write.mode(\"overwrite\").csv(output_path, header=True)\n",
    "                    group_list.append(group_name)\n",
    "                    \n",
    "                print(f\"{group_name} successfully written.\\n\")"
   ]
  },
  {
   "cell_type": "code",
   "execution_count": null,
   "id": "7914ce72",
   "metadata": {},
   "outputs": [],
   "source": []
  },
  {
   "cell_type": "code",
   "execution_count": null,
   "id": "33399af4",
   "metadata": {},
   "outputs": [],
   "source": []
  },
  {
   "cell_type": "code",
   "execution_count": null,
   "id": "86731a6c",
   "metadata": {},
   "outputs": [],
   "source": []
  },
  {
   "cell_type": "code",
   "execution_count": null,
   "id": "abd9d771",
   "metadata": {},
   "outputs": [],
   "source": []
  },
  {
   "cell_type": "code",
   "execution_count": null,
   "id": "0509466c",
   "metadata": {},
   "outputs": [],
   "source": []
  },
  {
   "cell_type": "code",
   "execution_count": null,
   "id": "24c25192",
   "metadata": {},
   "outputs": [],
   "source": []
  }
 ],
 "metadata": {
  "kernelspec": {
   "display_name": "Python 3 (ipykernel)",
   "language": "python",
   "name": "python3"
  },
  "language_info": {
   "codemirror_mode": {
    "name": "ipython",
    "version": 3
   },
   "file_extension": ".py",
   "mimetype": "text/x-python",
   "name": "python",
   "nbconvert_exporter": "python",
   "pygments_lexer": "ipython3",
   "version": "3.8.11"
  }
 },
 "nbformat": 4,
 "nbformat_minor": 5
}
